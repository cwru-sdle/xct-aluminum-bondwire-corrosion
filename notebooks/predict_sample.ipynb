{
 "cells": [
  {
   "cell_type": "markdown",
   "metadata": {},
   "source": [
    "## Sample Prediction Demo"
   ]
  },
  {
   "cell_type": "code",
   "execution_count": null,
   "metadata": {},
   "outputs": [],
   "source": [
    "import os\n",
    "import sys\n",
    "\n",
    "module_path = os.path.abspath(os.path.join('..'))\n",
    "if module_path not in sys.path:\n",
    "    sys.path.append(module_path)\n",
    "\n",
    "from src.models import Unet\n",
    "from src.config import ModelConfig\n",
    "from src.dataloader import prepare_datasets, prediction_dataset, x"
   ]
  },
  {
   "cell_type": "code",
   "execution_count": null,
   "metadata": {},
   "outputs": [],
   "source": [
    "import numpy as np\n",
    "import pandas as pd\n",
    "import matplotlib.pyplot as plt\n",
    "import tensorflow as tf\n",
    "import segmentation_models as sm\n",
    "\n",
    "# set up environment\n",
    "config = ModelConfig()\n",
    "sm.set_framework('tf.keras')\n",
    "\n",
    "# prepare data\n",
    "preprocess_input = sm.get_preprocessing(config.backbone) if config.backbone else None\n",
    "img_paths = list(config.img_dir.glob('*'))\n",
    "mask_paths = list(config.mask_dir.glob('*'))\n",
    "\n",
    "# define model\n",
    "if config.backbone:\n",
    "    unet_model = sm.Unet(\n",
    "        config.backbone, \n",
    "        encoder_weights=config.encoder_weights, \n",
    "        input_shape=config.img_shape, \n",
    "        classes=1,\n",
    "        activation='sigmoid'\n",
    "    )\n",
    "else:\n",
    "    unet_model = Unet(\n",
    "        input_shape=config.img_shape, \n",
    "        classes=1, \n",
    "        activation='sigmoid'\n",
    "    ).build()\n",
    "\n",
    "# compile model\n",
    "unet_model.compile()\n",
    "unet_model.load_weights(config.save_model_path)"
   ]
  },
  {
   "cell_type": "code",
   "execution_count": null,
   "metadata": {},
   "outputs": [],
   "source": [
    "ds = prediction_dataset(\n",
    "    img_paths,\n",
    "    1,\n",
    "    config.img_shape,\n",
    "    preprocess_input\n",
    ")\n",
    "\n",
    "num_samples = 3\n",
    "samples = ds.take(num_samples)\n",
    "\n",
    "for image, path in samples:\n",
    "    filename = path.numpy()[0].decode('utf-8')\n",
    "    prediction = unet_model.predict(image)\n",
    "    \n",
    "    # squeeze dimensions\n",
    "    image = tf.squeeze(image)\n",
    "    prediction = tf.squeeze(prediction)\n",
    "    \n",
    "    fig, axs = plt.subplots(1, 2, figsize=(10, 5))\n",
    "\n",
    "    axs[0].imshow(image)\n",
    "    axs[0].set_title('Original Image')\n",
    "    axs[0].axis('off')\n",
    "    axs[1].imshow(prediction, cmap='gray')\n",
    "    axs[1].set_title('Prediction')\n",
    "    axs[1].axis('off')\n",
    "\n",
    "    fig.suptitle(filename)\n",
    "    plt.tight_layout()\n",
    "    plt.show()"
   ]
  }
 ],
 "metadata": {
  "kernelspec": {
   "display_name": "Python 3",
   "language": "python",
   "name": "python3"
  },
  "language_info": {
   "codemirror_mode": {
    "name": "ipython",
    "version": 3
   },
   "file_extension": ".py",
   "mimetype": "text/x-python",
   "name": "python",
   "nbconvert_exporter": "python",
   "pygments_lexer": "ipython3",
   "version": "3.10.12"
  }
 },
 "nbformat": 4,
 "nbformat_minor": 2
}
