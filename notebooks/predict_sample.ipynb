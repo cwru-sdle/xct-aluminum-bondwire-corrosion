{
 "cells": [
  {
   "cell_type": "markdown",
   "metadata": {},
   "source": [
    "## Sample Prediction Demo"
   ]
  },
  {
   "cell_type": "code",
   "execution_count": null,
   "metadata": {},
   "outputs": [],
   "source": [
    "import os\n",
    "import sys\n",
    "\n",
    "module_path = os.path.abspath(os.path.join('..'))\n",
    "if module_path not in sys.path:\n",
    "    sys.path.append(module_path)\n",
    "\n",
    "from src.models import Unet\n",
    "from src.config import ModelConfig\n",
    "from src.dataloader import prepare_datasets"
   ]
  },
  {
   "cell_type": "code",
   "execution_count": null,
   "metadata": {},
   "outputs": [],
   "source": [
    "import numpy as np\n",
    "import pandas as pd\n",
    "import matplotlib.pyplot as plt\n",
    "import tensorflow as tf\n",
    "import segmentation_models as sm\n",
    "\n",
    "# set up environment\n",
    "config = ModelConfig()\n",
    "sm.set_framework('tf.keras')\n",
    "\n",
    "# prepare data\n",
    "preprocess_input = sm.get_preprocessing(config.backbone) if config.backbone else None\n",
    "df = pd.read_csv(config.split_path)\n",
    "train_ds, val_ds, test_ds = prepare_datasets(\n",
    "    df,\n",
    "    batch_size=1,\n",
    "    input_shape=config.img_shape,\n",
    "    preprocess_func=preprocess_input, \n",
    "    augment_flag=False, \n",
    ")\n",
    "\n",
    "# define model\n",
    "if config.backbone:\n",
    "    unet_model = sm.Unet(\n",
    "        config.backbone, \n",
    "        encoder_weights=config.encoder_weights, \n",
    "        input_shape=config.img_shape, \n",
    "        classes=1,\n",
    "        activation='sigmoid'\n",
    "    )\n",
    "else:\n",
    "    unet_model = Unet(\n",
    "        input_shape=config.img_shape, \n",
    "        classes=1, \n",
    "        activation='sigmoid'\n",
    "    ).build()\n",
    "\n",
    "# compile model\n",
    "unet_model.compile()\n",
    "unet_model.load_weights(config.save_model_path)"
   ]
  },
  {
   "cell_type": "code",
   "execution_count": null,
   "metadata": {},
   "outputs": [],
   "source": [
    "num_samples = 3\n",
    "samples = val_ds.take(num_samples)\n",
    "\n",
    "for image, mask in samples:\n",
    "    prediction = unet_model.predict(image)\n",
    "    \n",
    "    # squeeze dimensions\n",
    "    image = tf.squeeze(image)\n",
    "    mask = tf.squeeze(mask)\n",
    "    prediction = tf.squeeze(prediction)\n",
    "    \n",
    "    fig, axs = plt.subplots(1, 3, figsize=(12, 3))\n",
    "    \n",
    "    axs[0].imshow(image)\n",
    "    axs[0].set_title('Original Image')\n",
    "    axs[0].axis('off')\n",
    "    \n",
    "    axs[1].imshow(mask, cmap='gray')\n",
    "    axs[1].set_title('True Mask')\n",
    "    axs[1].axis('off')\n",
    "    \n",
    "    axs[2].imshow(prediction, cmap='gray')\n",
    "    axs[2].set_title('Predicted Mask')\n",
    "    axs[2].axis('off')\n",
    "    \n",
    "    plt.tight_layout()\n",
    "    plt.show()"
   ]
  },
  {
   "cell_type": "code",
   "execution_count": null,
   "metadata": {},
   "outputs": [],
   "source": []
  }
 ],
 "metadata": {
  "kernelspec": {
   "display_name": "Python 3",
   "language": "python",
   "name": "python3"
  },
  "language_info": {
   "codemirror_mode": {
    "name": "ipython",
    "version": 3
   },
   "file_extension": ".py",
   "mimetype": "text/x-python",
   "name": "python",
   "nbconvert_exporter": "python",
   "pygments_lexer": "ipython3",
   "version": "3.10.12"
  }
 },
 "nbformat": 4,
 "nbformat_minor": 2
}
